{
  "nbformat": 4,
  "nbformat_minor": 0,
  "metadata": {
    "colab": {
      "provenance": []
    },
    "kernelspec": {
      "name": "python3",
      "display_name": "Python 3"
    },
    "language_info": {
      "name": "python"
    }
  },
  "cells": [
    {
      "cell_type": "markdown",
      "source": [
        "# **Python Basics Questions**"
      ],
      "metadata": {
        "id": "Y09SnQazCueF"
      }
    },
    {
      "cell_type": "markdown",
      "source": [
        "1. What is Python, and why is it popular\n",
        "-> Python is a high-level, interpreted programming language known for its simplicity and readability. It is popular due to its versatility, extensive libraries, and strong community support, making it ideal for web development, data science, AI, and automation.\n",
        "\n",
        "2. What is an interpreter in Python\n",
        "-> In Python, an interpreter is a program that executes code line by line, converting high-level Python scripts into machine-readable instructions. This allows for easy debugging and platform independence.\n",
        "\n",
        "3. What are pre-defined keywords in Python\n",
        "-> Pre-defined keywords in Python are reserved words that have special meanings and cannot be used as variable names. Examples include if, else, while, for, def, class, import, and return.\n",
        "\n",
        "4. Can keywords be used as variable names\n",
        "-> No, keywords cannot be used as variable names in Python because they have predefined meanings and are reserved for specific operations in the language. Using them as variable names would cause syntax errors\n",
        "\n",
        "5. What is mutability in Python\n",
        "-> Mutability in Python refers to an object's ability to change its value after creation. Mutable objects eg, (lists, dictionaries, sets) can be modified, while immutable objects eg, (tuples, strings, integers) cannot be changed after they are created.\n",
        "\n",
        "6. Why are lists mutable, but tuples are immutable\n",
        "-> Lists are mutable because they allow modification of their elements, such as adding, removing, or changing items. Tuples are immutable because they are designed for fixed data storage, meaning their elements cannot be changed after creation, ensuring data integrity and faster performance.\n",
        "\n",
        "7. What is the difference between “==” and “is” operators in Python\n",
        "-> The \"==\" operator checks if two variables have the same value, while the \"is\" operator checks if they refer to the same memory location i.e. object identity.\n",
        "\n",
        "8. What are logical operators in Python\n",
        "-> Logical operators in Python are used to perform boolean logic operations. The main logical operators are and, or, and not, which help in combining or negating conditions in expressions.\n",
        "\n",
        "9. What is type casting in Python\n",
        "-> Type casting in Python is the process of converting one data type to another. It can be done explicitly using functions like int(), float(), str(), etc., to change the type of a value as needed.\n",
        "\n",
        "10. What is the difference between implicit and explicit type casting\n",
        "->\n",
        "Implicit Type Casting: The Python interpreter automatically converts one data type to another without explicit instruction, usually when there is no loss of data. For example, converting an integer to a float.\n",
        "\n",
        "Explicit Type Casting: The programmer manually converts one data type to another using functions like int(), float(), or str(). This is needed when converting between types where data might be lost or when the conversion isn't automatic.\n",
        "\n",
        "11. What is the purpose of conditional statements in Python\n",
        "-> The purpose of conditional statements in Python is to allow the execution of specific blocks of code based on whether a condition is true or false. They enable decision-making in programs, typically using if, elif, and else to control the flow of execution.\n",
        "\n",
        "12. How does the elif statement work\n",
        "-> The elif (short for \"else if\") statement in Python is used to check multiple conditions in sequence. If the initial if condition is False, Python evaluates the elif condition. If the elif condition is True, the corresponding block of code runs. If no if or elif conditions are true, the else block (if present) executes.\n",
        "\n",
        "13. What is the difference between for and while loops\n",
        "->\n",
        "A for loop iterates over a sequence or a range for a specific number of times. A while loop repeats as long as a given condition is True, without a set number of iterations.\n",
        "\n",
        "14. Describe a scenario where a while loop is more suitable than a for loop.\n",
        "->\n",
        "A while loop is ideal for situations where the number of iterations is not known in advance and depends on a condition that is checked during each iteration. For example, in a program where the user is prompted to enter a valid password, the loop would continue until the user provides the correct input. The loop condition is checked after each iteration, so it can run an indefinite number of times. This is in contrast to a for loop, where the number of iterations is predefined. The while loop gives more flexibility when the exit condition is dynamic. **bold text**"
      ],
      "metadata": {
        "id": "_pi2-a_pCzfS"
      }
    },
    {
      "cell_type": "markdown",
      "source": [
        "# **Practical Questions**"
      ],
      "metadata": {
        "id": "bMRSKQ1RGBGt"
      }
    },
    {
      "cell_type": "code",
      "source": [
        "#1 Write a Python program to print \"Hello, World!\n",
        "\n",
        "print(\"Hello, World!\")"
      ],
      "metadata": {
        "colab": {
          "base_uri": "https://localhost:8080/"
        },
        "id": "ULcI-CtcGDyM",
        "outputId": "18853427-1060-4455-ad34-83cfb86f9d78"
      },
      "execution_count": 2,
      "outputs": [
        {
          "output_type": "stream",
          "name": "stdout",
          "text": [
            "Hello, World!\n"
          ]
        }
      ]
    },
    {
      "cell_type": "code",
      "source": [
        "#2 Write a Python program that displays your name and age.\n",
        "name = input(\"Enter your name: \")\n",
        "age = input(\"Enter your age: \")\n",
        "\n",
        "print(\"Name: \", name)\n",
        "print(\"Age: \", age)"
      ],
      "metadata": {
        "colab": {
          "base_uri": "https://localhost:8080/"
        },
        "id": "1G4_XX20GX0S",
        "outputId": "4703a3af-ebad-40dc-9fa1-592144c3144f"
      },
      "execution_count": 3,
      "outputs": [
        {
          "output_type": "stream",
          "name": "stdout",
          "text": [
            "Enter your name: Ajinkya\n",
            "Enter your age: 24\n",
            "Name:  Ajinkya\n",
            "Age:  24\n"
          ]
        }
      ]
    },
    {
      "cell_type": "code",
      "source": [
        "#3 Write code to print all the pre-defined keywords in Python using the keyword library.\n",
        "import keyword\n",
        "\n",
        "print(\"Python Keywords: \", keyword.kwlist)"
      ],
      "metadata": {
        "colab": {
          "base_uri": "https://localhost:8080/"
        },
        "id": "IabYtG67G4r0",
        "outputId": "0bebd40d-0619-4d6f-b192-485cf790b0d2"
      },
      "execution_count": 4,
      "outputs": [
        {
          "output_type": "stream",
          "name": "stdout",
          "text": [
            "Python Keywords:  ['False', 'None', 'True', 'and', 'as', 'assert', 'async', 'await', 'break', 'class', 'continue', 'def', 'del', 'elif', 'else', 'except', 'finally', 'for', 'from', 'global', 'if', 'import', 'in', 'is', 'lambda', 'nonlocal', 'not', 'or', 'pass', 'raise', 'return', 'try', 'while', 'with', 'yield']\n"
          ]
        }
      ]
    },
    {
      "cell_type": "code",
      "source": [
        "#4 Write a program that checks if a given word is a Python keyword.\n",
        "import keyword\n",
        "\n",
        "word = input(\"Enter a word: \")\n",
        "if keyword.iskeyword(word):\n",
        "  print(f\"'{word}' is a python keyword.\")\n",
        "else:\n",
        "  print(f\"'{word}' is not a python keyword.\")"
      ],
      "metadata": {
        "colab": {
          "base_uri": "https://localhost:8080/"
        },
        "id": "JPx3olEyHORW",
        "outputId": "028f295e-fb39-4d84-cc49-c78d3e104731"
      },
      "execution_count": 6,
      "outputs": [
        {
          "output_type": "stream",
          "name": "stdout",
          "text": [
            "Enter a word: abc\n",
            "'abc' is not a python keyword.\n"
          ]
        }
      ]
    },
    {
      "cell_type": "code",
      "source": [
        "#5 Create a list and tuple in Python, and demonstrate how attempting to change an element works differently for each.\n",
        "\n",
        "my_list = [1, 2, 3, 4]\n",
        "print(\"Original List:\", my_list)\n",
        "\n",
        "my_list[0] = 10\n",
        "print(\"Modified List:\", my_list)\n",
        "\n",
        "my_tuple = (1, 2, 3, 4)\n",
        "print(\"Original Tuple:\", my_tuple)\n",
        "\n",
        "try:\n",
        "    my_tuple[0] = 10\n",
        "except TypeError:\n",
        "    print(\"Error: Cannot modify a tuple!\")\n"
      ],
      "metadata": {
        "colab": {
          "base_uri": "https://localhost:8080/"
        },
        "id": "9DoDnOWtHufc",
        "outputId": "1309e6d5-a6a6-4bf0-9ee9-ca65dc09fd07"
      },
      "execution_count": 7,
      "outputs": [
        {
          "output_type": "stream",
          "name": "stdout",
          "text": [
            "Original List: [1, 2, 3, 4]\n",
            "Modified List: [10, 2, 3, 4]\n",
            "Original Tuple: (1, 2, 3, 4)\n",
            "Error: Cannot modify a tuple!\n"
          ]
        }
      ]
    },
    {
      "cell_type": "code",
      "source": [
        "#6 Write a function to demonstrate the behavior of mutable and immutable arguments.\n",
        "def modify_values(immutable_arg, mutable_arg):\n",
        "\n",
        "    immutable_arg = immutable_arg + 5\n",
        "\n",
        "    mutable_arg.append(4)\n",
        "\n",
        "    print(\"Immutable argument after modification:\", immutable_arg)\n",
        "    print(\"Mutable argument after modification:\", mutable_arg)\n",
        "\n",
        "immutable_value = 10\n",
        "mutable_value = [1, 2, 3]\n",
        "\n",
        "modify_values(immutable_value, mutable_value)\n",
        "\n",
        "print(\"Original immutable value:\", immutable_value)\n",
        "print(\"Original mutable value:\", mutable_value)\n"
      ],
      "metadata": {
        "colab": {
          "base_uri": "https://localhost:8080/"
        },
        "id": "PGWUF4wGIMtI",
        "outputId": "eef35963-c1ed-48b3-971f-52a7f2f362a2"
      },
      "execution_count": 8,
      "outputs": [
        {
          "output_type": "stream",
          "name": "stdout",
          "text": [
            "Immutable argument after modification: 15\n",
            "Mutable argument after modification: [1, 2, 3, 4]\n",
            "Original immutable value: 10\n",
            "Original mutable value: [1, 2, 3, 4]\n"
          ]
        }
      ]
    },
    {
      "cell_type": "code",
      "source": [
        "#7 Write a program that performs basic arithmetic operations on two user-input numbers.\n",
        "\n",
        "num1 = float(input(\"Enter the first number: \"))\n",
        "num2 = float(input(\"Enter the second number: \"))\n",
        "\n",
        "addition = num1 + num2\n",
        "subtraction = num1 - num2\n",
        "multiplication = num1 * num2\n",
        "division = num1 / num2 if num2 != 0 else \"Cannot divide by zero\"\n",
        "\n",
        "print(f\"Addition: {num1} + {num2} = {addition}\")\n",
        "print(f\"Subtraction: {num1} - {num2} = {subtraction}\")\n",
        "print(f\"Multiplication: {num1} * {num2} = {multiplication}\")\n",
        "print(f\"Division: {num1} / {num2} = {division}\")\n"
      ],
      "metadata": {
        "colab": {
          "base_uri": "https://localhost:8080/"
        },
        "id": "qzSAPazvIgKA",
        "outputId": "1f4a5da9-3917-4760-b960-b66172d8422e"
      },
      "execution_count": 10,
      "outputs": [
        {
          "output_type": "stream",
          "name": "stdout",
          "text": [
            "Enter the first number: 2\n",
            "Enter the second number: 0\n",
            "Addition: 2.0 + 0.0 = 2.0\n",
            "Subtraction: 2.0 - 0.0 = 2.0\n",
            "Multiplication: 2.0 * 0.0 = 0.0\n",
            "Division: 2.0 / 0.0 = Cannot divide by zero\n"
          ]
        }
      ]
    },
    {
      "cell_type": "code",
      "source": [
        "#8 Write a program to demonstrate the use of logical operators.\n",
        "\n",
        "x = bool(int(input(\"Enter 1 for True or 0 for False for x: \")))\n",
        "y = bool(int(input(\"Enter 1 for True or 0 for False for y: \")))\n",
        "\n",
        "\n",
        "print(\"Using 'and' operator: x and y =\", x and y)\n",
        "print(\"Using 'or' operator: x or y =\", x or y)\n",
        "print(\"Using 'not' operator: not x =\", not x)"
      ],
      "metadata": {
        "colab": {
          "base_uri": "https://localhost:8080/"
        },
        "id": "pmEt68SEI3Ga",
        "outputId": "9bbb4563-d460-4a94-c849-5f0d30fe9ad7"
      },
      "execution_count": 11,
      "outputs": [
        {
          "output_type": "stream",
          "name": "stdout",
          "text": [
            "Enter 1 for True or 0 for False for x: 1\n",
            "Enter 1 for True or 0 for False for y: 0\n",
            "Using 'and' operator: x and y = False\n",
            "Using 'or' operator: x or y = True\n",
            "Using 'not' operator: not x = False\n"
          ]
        }
      ]
    },
    {
      "cell_type": "code",
      "source": [
        "from re import A\n",
        "#9 Write a Python program to convert user input from string to integer, float, and boolean types.\n",
        "\n",
        "uinput = input(\"Enter a value: \")\n",
        "\n",
        "\n",
        "integer_value = int(uinput)  # Convert to integer\n",
        "float_value = float(uinput)  # Convert to float\n",
        "boolean_value = bool(uinput)  # Convert to boolean\n",
        "\n",
        "\n",
        "print(\"Converted to integer:\", integer_value)\n",
        "print(\"Converted to float:\", float_value)\n",
        "print(\"Converted to boolean:\", boolean_value)\n"
      ],
      "metadata": {
        "colab": {
          "base_uri": "https://localhost:8080/"
        },
        "id": "nderm8mKJEAf",
        "outputId": "025e12ff-724d-47ab-faad-9bc0e34e6c7c"
      },
      "execution_count": 15,
      "outputs": [
        {
          "output_type": "stream",
          "name": "stdout",
          "text": [
            "Enter a value: 1\n",
            "Converted to integer: 1\n",
            "Converted to float: 1.0\n",
            "Converted to boolean: True\n"
          ]
        }
      ]
    },
    {
      "cell_type": "code",
      "source": [
        "#10 Write code to demonstrate type casting with list elements.\n",
        "\n",
        "data_list = [\"10\", \"20.5\", \"True\", 30]\n",
        "\n",
        "\n",
        "integer_value = int(data_list[0])  # Convert \"10\" to integer\n",
        "float_value = float(data_list[1])  # Convert \"20.5\" to float\n",
        "boolean_value = bool(data_list[2])  # Convert \"True\" to boolean (non-empty string becomes True)\n",
        "\n",
        "\n",
        "converted_list = [integer_value, float_value, boolean_value, data_list[3]]\n",
        "\n",
        "\n",
        "print(\"Original List:\", data_list)\n",
        "print(\"Converted List:\", converted_list)\n"
      ],
      "metadata": {
        "colab": {
          "base_uri": "https://localhost:8080/"
        },
        "id": "ESGXqw7hJavl",
        "outputId": "8372455a-f2d7-44db-d720-3aef49e03a67"
      },
      "execution_count": 17,
      "outputs": [
        {
          "output_type": "stream",
          "name": "stdout",
          "text": [
            "Original List: ['10', '20.5', 'True', 30]\n",
            "Converted List: [10, 20.5, True, 30]\n"
          ]
        }
      ]
    },
    {
      "cell_type": "code",
      "source": [
        "#11 Write a program that checks if a number is positive, negative, or zero\n",
        "\n",
        "number = float(input(\"Enter a number: \"))\n",
        "\n",
        "\n",
        "if number > 0:\n",
        "    print(\"The number is positive.\")\n",
        "elif number < 0:\n",
        "    print(\"The number is negative.\")\n",
        "else:\n",
        "    print(\"The number is zero.\")\n"
      ],
      "metadata": {
        "colab": {
          "base_uri": "https://localhost:8080/"
        },
        "id": "KY-rDW1NJ7dc",
        "outputId": "49626bf3-a6c4-428c-a1df-f8bb2c43c208"
      },
      "execution_count": 20,
      "outputs": [
        {
          "output_type": "stream",
          "name": "stdout",
          "text": [
            "Enter a number: 5\n",
            "The number is positive.\n"
          ]
        }
      ]
    },
    {
      "cell_type": "code",
      "source": [
        "#12 Write a for loop to print numbers from 1 to 10.\n",
        "for i in range(1, 11):\n",
        "    print(i)"
      ],
      "metadata": {
        "colab": {
          "base_uri": "https://localhost:8080/"
        },
        "id": "j5nFWjchKFh6",
        "outputId": "77c67541-e62c-4ca0-f2d5-9f414c470889"
      },
      "execution_count": 21,
      "outputs": [
        {
          "output_type": "stream",
          "name": "stdout",
          "text": [
            "1\n",
            "2\n",
            "3\n",
            "4\n",
            "5\n",
            "6\n",
            "7\n",
            "8\n",
            "9\n",
            "10\n"
          ]
        }
      ]
    },
    {
      "cell_type": "code",
      "source": [
        "#13 Write a Python program to find the sum of all even numbers between 1 and 50.\n",
        "\n",
        "sum_even = 0\n",
        "\n",
        "\n",
        "for i in range(1, 51):\n",
        "    if i % 2 == 0:\n",
        "        sum_even += i\n",
        "\n",
        "\n",
        "print(\"Sum of all even numbers between 1 and 50:\", sum_even)\n"
      ],
      "metadata": {
        "colab": {
          "base_uri": "https://localhost:8080/"
        },
        "id": "rBbXUrFzKMe3",
        "outputId": "2e31108c-a189-45dd-fd8f-1f7ecfda9b27"
      },
      "execution_count": 22,
      "outputs": [
        {
          "output_type": "stream",
          "name": "stdout",
          "text": [
            "Sum of all even numbers between 1 and 50: 650\n"
          ]
        }
      ]
    },
    {
      "cell_type": "code",
      "source": [
        "#14 Write a program to reverse a string using a while loop.\n",
        "input_string = input(\"Enter a string: \")\n",
        "\n",
        "\n",
        "reversed_string = \"\"\n",
        "index = len(input_string) - 1\n",
        "\n",
        "while index >= 0:\n",
        "    reversed_string += input_string[index]\n",
        "    index -= 1\n",
        "\n",
        "print(\"Reversed string:\", reversed_string)"
      ],
      "metadata": {
        "colab": {
          "base_uri": "https://localhost:8080/"
        },
        "id": "AvgCZvUxKbTA",
        "outputId": "79cad363-cc14-4c96-c284-ad2a9073be3c"
      },
      "execution_count": 23,
      "outputs": [
        {
          "output_type": "stream",
          "name": "stdout",
          "text": [
            "Enter a string: Ajinkya\n",
            "Reversed string: ayknijA\n"
          ]
        }
      ]
    },
    {
      "cell_type": "code",
      "source": [
        "#15 Write a Python program to calculate the factorial of a number provided by the user using a while loop.\n",
        "number = int(input(\"Enter a number: \"))\n",
        "\n",
        "factorial = 1\n",
        "i = 1\n",
        "\n",
        "while i <= number:\n",
        "    factorial *= i\n",
        "    i += 1\n",
        "\n",
        "print(\"Factorial of\", number, \"is\", factorial)"
      ],
      "metadata": {
        "colab": {
          "base_uri": "https://localhost:8080/"
        },
        "id": "wjOP60qdKzsN",
        "outputId": "da75be19-4d65-410a-c248-e2ecc92367ea"
      },
      "execution_count": 24,
      "outputs": [
        {
          "output_type": "stream",
          "name": "stdout",
          "text": [
            "Enter a number: 5\n",
            "Factorial of 5 is 120\n"
          ]
        }
      ]
    }
  ]
}